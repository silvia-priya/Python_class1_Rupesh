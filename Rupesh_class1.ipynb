{
 "cells": [
  {
   "cell_type": "code",
   "execution_count": 6,
   "id": "0bc48f83",
   "metadata": {},
   "outputs": [
    {
     "name": "stdout",
     "output_type": "stream",
     "text": [
      "20\n",
      "140734075513232\n",
      "90\n",
      "140734075515472\n",
      "<class 'int'>\n",
      "90.34\n",
      "3214220927920\n",
      "<class 'float'>\n",
      "140734075513232\n"
     ]
    }
   ],
   "source": [
    "#immutable variables\n",
    "\n",
    "a=20\n",
    "print(a)\n",
    "print(id(a))\n",
    "a=90\n",
    "print(a)\n",
    "print(id(a))\n",
    "print(type(a))\n",
    "\n",
    "\n",
    "\n",
    "b=90.34\n",
    "print(b)\n",
    "print(id(b))\n",
    "print(type(b))\n",
    "\n",
    "c=20\n",
    "print(id(c))"
   ]
  },
  {
   "cell_type": "code",
   "execution_count": 7,
   "id": "ebeabbc9",
   "metadata": {},
   "outputs": [
    {
     "name": "stdout",
     "output_type": "stream",
     "text": [
      "<class 'str'>\n",
      "3214221064496\n",
      "<class 'str'>\n",
      "3214221064432\n"
     ]
    }
   ],
   "source": [
    "name=\"priya\"\n",
    "print(type(name))\n",
    "print(id(name))\n",
    "name=\"Rahul\"\n",
    "print(type(name))\n",
    "print(id(name))"
   ]
  },
  {
   "cell_type": "code",
   "execution_count": 9,
   "id": "ca02580b",
   "metadata": {},
   "outputs": [
    {
     "name": "stdout",
     "output_type": "stream",
     "text": [
      "(12, 13, 14.89, 'priya')\n",
      "<class 'tuple'>\n",
      "3214221058752\n"
     ]
    },
    {
     "ename": "TypeError",
     "evalue": "'tuple' object does not support item assignment",
     "output_type": "error",
     "traceback": [
      "\u001b[1;31m---------------------------------------------------------------------------\u001b[0m",
      "\u001b[1;31mTypeError\u001b[0m                                 Traceback (most recent call last)",
      "\u001b[1;32m<ipython-input-9-2a21522c8810>\u001b[0m in \u001b[0;36m<module>\u001b[1;34m\u001b[0m\n\u001b[0;32m      3\u001b[0m \u001b[0mprint\u001b[0m\u001b[1;33m(\u001b[0m\u001b[0mtype\u001b[0m\u001b[1;33m(\u001b[0m\u001b[0mtup\u001b[0m\u001b[1;33m)\u001b[0m\u001b[1;33m)\u001b[0m\u001b[1;33m\u001b[0m\u001b[1;33m\u001b[0m\u001b[0m\n\u001b[0;32m      4\u001b[0m \u001b[0mprint\u001b[0m\u001b[1;33m(\u001b[0m\u001b[0mid\u001b[0m\u001b[1;33m(\u001b[0m\u001b[0mtup\u001b[0m\u001b[1;33m)\u001b[0m\u001b[1;33m)\u001b[0m\u001b[1;33m\u001b[0m\u001b[1;33m\u001b[0m\u001b[0m\n\u001b[1;32m----> 5\u001b[1;33m \u001b[0mtup\u001b[0m\u001b[1;33m[\u001b[0m\u001b[1;36m1\u001b[0m\u001b[1;33m]\u001b[0m\u001b[1;33m=\u001b[0m\u001b[1;36m23\u001b[0m\u001b[1;33m\u001b[0m\u001b[1;33m\u001b[0m\u001b[0m\n\u001b[0m\u001b[0;32m      6\u001b[0m \u001b[0mprint\u001b[0m\u001b[1;33m(\u001b[0m\u001b[0mtup\u001b[0m\u001b[1;33m)\u001b[0m\u001b[1;33m\u001b[0m\u001b[1;33m\u001b[0m\u001b[0m\n",
      "\u001b[1;31mTypeError\u001b[0m: 'tuple' object does not support item assignment"
     ]
    }
   ],
   "source": [
    "tup=(12,13,14.89,\"priya\")\n",
    "print(tup)\n",
    "print(type(tup))\n",
    "print(id(tup))\n",
    "tup[1]=23\n",
    "print(tup)"
   ]
  },
  {
   "cell_type": "code",
   "execution_count": 42,
   "id": "b0584aaa",
   "metadata": {},
   "outputs": [
    {
     "name": "stdout",
     "output_type": "stream",
     "text": [
      "[12, 13, 18, 789]\n",
      "<class 'list'>\n",
      "3214221069568\n",
      "[12, 67, 18, 789]\n",
      "3214221069568\n",
      "[12, 67, 18, 789, 123]\n",
      "[12, 67, 18, 123]\n",
      "[12, 67, 18, 123, 67, 89, 90, 45]\n",
      "[12, [456, 89, 10], 67, 18, 123, 67, 89, 90, 45]\n",
      "89\n",
      "12\n",
      "90\n",
      "3\n",
      "3\n",
      "[]\n",
      "[90, 78]\n"
     ]
    }
   ],
   "source": [
    "lst=[12,13,18,789]\n",
    "print(lst)\n",
    "print(type(lst))\n",
    "print(id(lst))\n",
    "lst[1]=67\n",
    "print(lst)\n",
    "print(id(lst))\n",
    "\n",
    "lst.append(123) #adding 1 value\n",
    "print(lst)\n",
    "\n",
    "lst.remove(789)\n",
    "print(lst)\n",
    "\n",
    "lst.index(18)\n",
    "\n",
    "#add 5 values to my list\n",
    "lst.extend([67,89,90,45])\n",
    "print(lst)\n",
    "\n",
    "\n",
    "#insert a value at the second position -1\n",
    "lst.insert(1,[456,89,10])\n",
    "print(lst)\n",
    "\n",
    "print(lst[1][1])\n",
    "\n",
    "#min,max,length\n",
    "\n",
    "lst2=[90,78,12]\n",
    "print(min(lst2))\n",
    "print(max(lst2))\n",
    "print(len(lst2))\n",
    "\n",
    "lst3=[\"hi\",\"world\",\"air\"]\n",
    "\n",
    "print(len(lst3))\n",
    "\n",
    "lst3.clear()\n",
    "print(lst3)\n",
    "\n",
    "lst2.pop()\n",
    "print(lst2)"
   ]
  },
  {
   "cell_type": "code",
   "execution_count": 18,
   "id": "37341868",
   "metadata": {},
   "outputs": [
    {
     "name": "stdout",
     "output_type": "stream",
     "text": [
      "{576, 90, 12}\n",
      "3214221758752\n",
      "{576, 90, 12, 23}\n",
      "3214221758752\n"
     ]
    }
   ],
   "source": [
    "set={12,90,576,12,90} #set will completely remove the duplicates\n",
    "print(set)\n",
    "print(id(set))\n",
    "#print(set[0])\n",
    "set.add(23)\n",
    "print(set)\n",
    "print(id(set))\n",
    "#sets does not have an index number"
   ]
  },
  {
   "cell_type": "code",
   "execution_count": 26,
   "id": "f1c23846",
   "metadata": {},
   "outputs": [
    {
     "name": "stdout",
     "output_type": "stream",
     "text": [
      "{10: 'rajesh', 12: 'rajesh', 13: 'anu'}\n",
      "rajesh\n",
      "dict_keys([10, 12, 13])\n",
      "dict_values(['rajesh', 'rajesh', 'anu'])\n",
      "{'Hadoop': ['s1', 's2', 's3'], 'Spark': ['s4', 's1'], 'Python': ['s10', 's9']}\n",
      "dict_keys(['Hadoop', 'Spark', 'Python'])\n",
      "['s10', 's9']\n"
     ]
    }
   ],
   "source": [
    "dict={10:\"anu\",12:\"rajesh\",13:\"anu\",10:\"rajesh\"}\n",
    "print(dict)\n",
    "print(dict[10])\n",
    "print(dict.keys())\n",
    "print(dict.values())\n",
    "\n",
    "dict_courses={\"Hadoop\":[\"s1\",\"s2\",\"s3\"],\"Spark\":[\"s4\",\"s1\"],\"Python\":[\"s10\",\"s9\"]}\n",
    "print(dict_courses)\n",
    "print(dict_courses.keys())\n",
    "print(dict_courses[\"Python\"])\n",
    "            "
   ]
  },
  {
   "cell_type": "code",
   "execution_count": 9,
   "id": "59b88ef2",
   "metadata": {},
   "outputs": [
    {
     "name": "stdout",
     "output_type": "stream",
     "text": [
      "{12: 'anu', 13: 'jerry', 90: 'rakesh'}\n",
      "<class 'dict'>\n",
      "{12: 'anu', 23: 'leela', 90: 'priya'}\n",
      "<class 'dict'>\n",
      "{12: 'anu', 13: 'kiran'}\n",
      "<class 'dict'>\n",
      "{12: 'anu', 13: 'leela', 14: 'priya'}\n",
      "<class 'dict'>\n",
      "{12: 'cd', 45: 'ab', 23: 'ef'}\n",
      "<class 'dict'>\n",
      "{12: 0, 45: 0, 23: 0}\n"
     ]
    }
   ],
   "source": [
    "#converting to dictionary\n",
    "\n",
    "#list to dict -- \n",
    "\n",
    "lst1 =[12,13,90] \n",
    "lst2=[\"anu\",\"jerry\",\"rakesh\",\"kiran\"]\n",
    "\n",
    "dict_op=dict(zip(lst1,lst2))\n",
    "print(dict_op)\n",
    "\n",
    "print(type(dict_op))\n",
    "\n",
    "\n",
    "#tuple to dict\n",
    "\n",
    "tup1=(12,23,90)\n",
    "tup2=(\"anu\",\"leela\",\"priya\")\n",
    "\n",
    "tup_op=dict(zip(tup1,tup2))\n",
    "\n",
    "print(tup_op)\n",
    "print(type(tup_op))\n",
    "\n",
    "\n",
    "tup0 = ((12,\"anu\",8908),(13,\"leela\",8908),(14,\"priya\",98870))\n",
    "tup1 = ((12,\"anu\"),(13,\"kiran\"))\n",
    "\n",
    "tup_dict_0=dict((a,b) for a,b in tup1)\n",
    "print(tup_dict_0)\n",
    "print(type(tup_dict_0))\n",
    "\n",
    "tup_dict_1=dict((x,y) for x,y,z in tup0)\n",
    "print(tup_dict_1)\n",
    "print(type(tup_dict_1))\n",
    "\n",
    "\n",
    "#set to dictionary\n",
    "\n",
    "set1 = {12,23,45}\n",
    "set2={\"ab\",\"cd\",\"ef\"}\n",
    "\n",
    "set_op=dict(zip(set1,set2))\n",
    "print(set_op)\n",
    "print(type(set_op))\n",
    "\n",
    "\n",
    "set_op1 = dict.fromkeys(set1,0)\n",
    "print(set_op1)\n",
    "\n"
   ]
  },
  {
   "cell_type": "code",
   "execution_count": 17,
   "id": "9b683ecf",
   "metadata": {},
   "outputs": [
    {
     "name": "stdout",
     "output_type": "stream",
     "text": [
      "(12, 23, 34)\n",
      "<class 'tuple'>\n",
      "(90, 12, 45, 23)\n",
      "<class 'tuple'>\n",
      "dict_items([(10, 'anu'), (20, 'priya'), (30, 'leela')])\n",
      "<class 'tuple'>\n"
     ]
    }
   ],
   "source": [
    "#conversion to tuples\n",
    "\n",
    "\n",
    "#list to tuple\n",
    "\n",
    "lst1=[12,23,34]\n",
    "\n",
    "tup_0 = tuple(lst1)\n",
    "print(tup_0)\n",
    "print(type(tup_0))\n",
    "\n",
    "\n",
    "#set to tuple\n",
    "set1={12,23,45,12,23,90}\n",
    "\n",
    "tup_1=tuple(set1)\n",
    "print(tup_1)\n",
    "print(type(tup_1))\n",
    "\n",
    "#dictionary to tuple\n",
    "dict1={10:\"anu\",20:\"priya\",30:\"leela\"}\n",
    "print(dict1.items())\n",
    "\n",
    "\n",
    "tup_2=[(k,v) for k,v in dict1.items()]\n",
    "\n",
    "tup_3=tuple(tup_2)\n",
    "print(type(tup_3))\n",
    "\n"
   ]
  },
  {
   "cell_type": "code",
   "execution_count": 20,
   "id": "bc2d01e2",
   "metadata": {},
   "outputs": [
    {
     "name": "stdout",
     "output_type": "stream",
     "text": [
      "[12, 23, 56]\n",
      "<class 'list'>\n",
      "[80, 56, 12, 39]\n",
      "<class 'list'>\n",
      "[10, 11, 12]\n",
      "['Hadoop', 'spark', 'Python']\n"
     ]
    }
   ],
   "source": [
    "# conversion to list\n",
    "\n",
    "#tuple to list\n",
    "\n",
    "tup1=(12,23,56)\n",
    "\n",
    "list_1=list(tup1)\n",
    "print(list_1)\n",
    "print(type(list_1))\n",
    "\n",
    "#set to list\n",
    "\n",
    "set1={12,39,12,80,56}\n",
    "list_2=list(set1)\n",
    "print(list_2)\n",
    "print(type(list_2))\n",
    "\n",
    "#dictionary to list\n",
    "\n",
    "\n",
    "dict1={10:\"Hadoop\",11:\"spark\",12:\"Python\"}\n",
    "\n",
    "keylist=[]\n",
    "vallist=[]\n",
    "\n",
    "for k,v in dict1.items():\n",
    "    keylist.append(k)\n",
    "    vallist.append(v)\n",
    "\n",
    "print(keylist)\n",
    "print(vallist)"
   ]
  },
  {
   "cell_type": "code",
   "execution_count": 25,
   "id": "e1651808",
   "metadata": {},
   "outputs": [
    {
     "name": "stdout",
     "output_type": "stream",
     "text": [
      "{56, 34, 12, 23}\n",
      "<class 'set'>\n",
      "{90, 12, 45, 78}\n",
      "<class 'set'>\n",
      "{(12, 'Python'), (11, 'spark'), (10, 'Hadoop')}\n",
      "<class 'set'>\n"
     ]
    }
   ],
   "source": [
    "#conversions to set\n",
    "\n",
    "#list to set\n",
    "lst1=[12,23,34,56,12]\n",
    "\n",
    "set_0=set(lst1)\n",
    "print(set_0)\n",
    "print(type(set_0))\n",
    "\n",
    "\n",
    "#tuple to set\n",
    "tup1=(12,90,78,45)\n",
    "set_1=set(tup1)\n",
    "print(set_1)\n",
    "print(type(set_1))\n",
    "\n",
    "#dict to set\n",
    "\n",
    "dict1={10:\"Hadoop\",11:\"spark\",12:\"Python\"}\n",
    "\n",
    "'''\n",
    "keylist={}\n",
    "vallist={}\n",
    "\n",
    "for k,v in dict1.items():\n",
    "    keylist.add(k)\n",
    "    vallist.add(v)\n",
    "\n",
    "print(keylist)\n",
    "print(vallist)\n",
    "'''\n",
    "\n",
    "tup_2=[(k,v) for k,v in dict1.items()]\n",
    "\n",
    "tup_3=set(tup_2)\n",
    "print(tup_3)\n",
    "print(type(tup_3))"
   ]
  },
  {
   "cell_type": "code",
   "execution_count": 26,
   "id": "456f7f17",
   "metadata": {},
   "outputs": [
    {
     "name": "stdout",
     "output_type": "stream",
     "text": [
      "5\n",
      "1\n",
      "6\n",
      "1.5\n",
      "1\n",
      "9\n",
      "1\n"
     ]
    }
   ],
   "source": [
    "#Arithmetic operators\n",
    "\n",
    "\n",
    "print(3+2)\n",
    "print(3-2)\n",
    "print(3*2)\n",
    "print(3/2)\n",
    "print(3%2) #modulo -- \n",
    "print(3**2) #power \n",
    "print(3//2) #floor division "
   ]
  },
  {
   "cell_type": "code",
   "execution_count": 27,
   "id": "de02ac16",
   "metadata": {},
   "outputs": [
    {
     "name": "stdout",
     "output_type": "stream",
     "text": [
      "10\n",
      "12\n"
     ]
    }
   ],
   "source": [
    "#Assignment  operators\n",
    "\n",
    "a=10\n",
    "b=2\n",
    "\n",
    "print(a)\n",
    "a=a+b\n",
    "print(a)\n"
   ]
  }
 ],
 "metadata": {
  "kernelspec": {
   "display_name": "Python 3",
   "language": "python",
   "name": "python3"
  },
  "language_info": {
   "codemirror_mode": {
    "name": "ipython",
    "version": 3
   },
   "file_extension": ".py",
   "mimetype": "text/x-python",
   "name": "python",
   "nbconvert_exporter": "python",
   "pygments_lexer": "ipython3",
   "version": "3.8.8"
  }
 },
 "nbformat": 4,
 "nbformat_minor": 5
}
